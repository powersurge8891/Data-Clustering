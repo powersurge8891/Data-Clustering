{
  "nbformat": 4,
  "nbformat_minor": 0,
  "metadata": {
    "colab": {
      "name": "Classification of countries using Gaussian Mixture Model",
      "provenance": [],
      "mount_file_id": "19VZ9PHYwKC0z9xoZwLdetdqp4oXZ_koJ",
      "authorship_tag": "ABX9TyP7JK56g2fOQn6QuCYB7k4Y",
      "include_colab_link": true
    },
    "kernelspec": {
      "name": "python3",
      "display_name": "Python 3"
    },
    "language_info": {
      "name": "python"
    }
  },
  "cells": [
    {
      "cell_type": "markdown",
      "metadata": {
        "id": "view-in-github",
        "colab_type": "text"
      },
      "source": [
        "<a href=\"https://colab.research.google.com/github/powersurge8891/Data-Segmentation/blob/main/Classification_of_countries_using_Gaussian_Mixture_Model.ipynb\" target=\"_parent\"><img src=\"https://colab.research.google.com/assets/colab-badge.svg\" alt=\"Open In Colab\"/></a>"
      ]
    },
    {
      "cell_type": "markdown",
      "metadata": {
        "id": "yxGxz0e6UfVb"
      },
      "source": [
        "#Libraries and Data"
      ]
    },
    {
      "cell_type": "code",
      "metadata": {
        "colab": {
          "base_uri": "https://localhost:8080/"
        },
        "id": "fMq2fiEeGwm_",
        "outputId": "b5afd4f8-48f4-4622-d55f-1543a90a272f"
      },
      "source": [
        "%cd/content/drive/MyDrive/Data Mining for Business in Python/4. Clustering - Gaussian Mixture Model\n"
      ],
      "execution_count": 1,
      "outputs": [
        {
          "output_type": "stream",
          "name": "stdout",
          "text": [
            "/content/drive/MyDrive/Data Mining for Business in Python/4. Clustering - Gaussian Mixture Model\n"
          ]
        }
      ]
    },
    {
      "cell_type": "code",
      "metadata": {
        "id": "_1mHx4FPUNAE"
      },
      "source": [
        "import pandas as pd\n",
        "import numpy as np\n",
        "import matplotlib.pyplot as plt\n",
        "from sklearn.mixture import GaussianMixture"
      ],
      "execution_count": 2,
      "outputs": []
    },
    {
      "cell_type": "code",
      "metadata": {
        "colab": {
          "base_uri": "https://localhost:8080/",
          "height": 206
        },
        "id": "6aS4mY3JWheI",
        "outputId": "286a2f82-4f73-425a-d721-160a8d167c2f"
      },
      "source": [
        "data=pd.read_csv('Country-data.csv')\n",
        "data.head()"
      ],
      "execution_count": 3,
      "outputs": [
        {
          "output_type": "execute_result",
          "data": {
            "text/html": [
              "<div>\n",
              "<style scoped>\n",
              "    .dataframe tbody tr th:only-of-type {\n",
              "        vertical-align: middle;\n",
              "    }\n",
              "\n",
              "    .dataframe tbody tr th {\n",
              "        vertical-align: top;\n",
              "    }\n",
              "\n",
              "    .dataframe thead th {\n",
              "        text-align: right;\n",
              "    }\n",
              "</style>\n",
              "<table border=\"1\" class=\"dataframe\">\n",
              "  <thead>\n",
              "    <tr style=\"text-align: right;\">\n",
              "      <th></th>\n",
              "      <th>country</th>\n",
              "      <th>child_mort</th>\n",
              "      <th>exports</th>\n",
              "      <th>health</th>\n",
              "      <th>imports</th>\n",
              "      <th>income</th>\n",
              "      <th>inflation</th>\n",
              "      <th>life_expec</th>\n",
              "      <th>total_fer</th>\n",
              "      <th>gdpp</th>\n",
              "    </tr>\n",
              "  </thead>\n",
              "  <tbody>\n",
              "    <tr>\n",
              "      <th>0</th>\n",
              "      <td>Afghanistan</td>\n",
              "      <td>90.2</td>\n",
              "      <td>10.0</td>\n",
              "      <td>7.58</td>\n",
              "      <td>44.9</td>\n",
              "      <td>1610</td>\n",
              "      <td>9.44</td>\n",
              "      <td>56.2</td>\n",
              "      <td>5.82</td>\n",
              "      <td>553</td>\n",
              "    </tr>\n",
              "    <tr>\n",
              "      <th>1</th>\n",
              "      <td>Albania</td>\n",
              "      <td>16.6</td>\n",
              "      <td>28.0</td>\n",
              "      <td>6.55</td>\n",
              "      <td>48.6</td>\n",
              "      <td>9930</td>\n",
              "      <td>4.49</td>\n",
              "      <td>76.3</td>\n",
              "      <td>1.65</td>\n",
              "      <td>4090</td>\n",
              "    </tr>\n",
              "    <tr>\n",
              "      <th>2</th>\n",
              "      <td>Algeria</td>\n",
              "      <td>27.3</td>\n",
              "      <td>38.4</td>\n",
              "      <td>4.17</td>\n",
              "      <td>31.4</td>\n",
              "      <td>12900</td>\n",
              "      <td>16.10</td>\n",
              "      <td>76.5</td>\n",
              "      <td>2.89</td>\n",
              "      <td>4460</td>\n",
              "    </tr>\n",
              "    <tr>\n",
              "      <th>3</th>\n",
              "      <td>Angola</td>\n",
              "      <td>119.0</td>\n",
              "      <td>62.3</td>\n",
              "      <td>2.85</td>\n",
              "      <td>42.9</td>\n",
              "      <td>5900</td>\n",
              "      <td>22.40</td>\n",
              "      <td>60.1</td>\n",
              "      <td>6.16</td>\n",
              "      <td>3530</td>\n",
              "    </tr>\n",
              "    <tr>\n",
              "      <th>4</th>\n",
              "      <td>Antigua and Barbuda</td>\n",
              "      <td>10.3</td>\n",
              "      <td>45.5</td>\n",
              "      <td>6.03</td>\n",
              "      <td>58.9</td>\n",
              "      <td>19100</td>\n",
              "      <td>1.44</td>\n",
              "      <td>76.8</td>\n",
              "      <td>2.13</td>\n",
              "      <td>12200</td>\n",
              "    </tr>\n",
              "  </tbody>\n",
              "</table>\n",
              "</div>"
            ],
            "text/plain": [
              "               country  child_mort  exports  ...  life_expec  total_fer   gdpp\n",
              "0          Afghanistan        90.2     10.0  ...        56.2       5.82    553\n",
              "1              Albania        16.6     28.0  ...        76.3       1.65   4090\n",
              "2              Algeria        27.3     38.4  ...        76.5       2.89   4460\n",
              "3               Angola       119.0     62.3  ...        60.1       6.16   3530\n",
              "4  Antigua and Barbuda        10.3     45.5  ...        76.8       2.13  12200\n",
              "\n",
              "[5 rows x 10 columns]"
            ]
          },
          "metadata": {},
          "execution_count": 3
        }
      ]
    },
    {
      "cell_type": "code",
      "metadata": {
        "id": "arEQ47k7Whh4"
      },
      "source": [
        "dataset= data.drop(columns='country')"
      ],
      "execution_count": 4,
      "outputs": []
    },
    {
      "cell_type": "markdown",
      "metadata": {
        "id": "T-6nexxma-ae"
      },
      "source": [
        "#Optimum number of clusters"
      ]
    },
    {
      "cell_type": "code",
      "metadata": {
        "id": "jC7vJVdLWhn9"
      },
      "source": [
        "#Akaike's Information Criterion and Bayelsian Information Criterion"
      ],
      "execution_count": 5,
      "outputs": []
    },
    {
      "cell_type": "code",
      "metadata": {
        "id": "8wX-C_rxbJfB"
      },
      "source": [
        "#seeking the best cluster to use\n",
        "components= np.arange(1,10)\n",
        "model= [GaussianMixture(n, random_state=2).fit(dataset)\n",
        "\n",
        "for n in components]"
      ],
      "execution_count": 6,
      "outputs": []
    },
    {
      "cell_type": "code",
      "metadata": {
        "id": "3S-FHu3ubJid",
        "colab": {
          "base_uri": "https://localhost:8080/",
          "height": 283
        },
        "outputId": "8dcc7520-97a0-4f25-ce5f-f5cc85981311"
      },
      "source": [
        "plt.plot(components, [m.bic(dataset) for m in model], label='BIC')\n",
        "plt.plot(components, [m.aic(dataset) for m in model], label='AIC')\n",
        "plt.legend()"
      ],
      "execution_count": 7,
      "outputs": [
        {
          "output_type": "execute_result",
          "data": {
            "text/plain": [
              "<matplotlib.legend.Legend at 0x7fab1e7efcd0>"
            ]
          },
          "metadata": {},
          "execution_count": 7
        },
        {
          "output_type": "display_data",
          "data": {
            "image/png": "[encoded data removed]",
            "text/plain": [
              "<Figure size 432x288 with 1 Axes>"
            ]
          },
          "metadata": {
            "needs_background": "light"
          }
        }
      ]
    },
    {
      "cell_type": "markdown",
      "metadata": {
        "id": "nq3CRdYNaWiI"
      },
      "source": [
        "#Gaussian Model"
      ]
    },
    {
      "cell_type": "code",
      "metadata": {
        "id": "Keq28ls0bJmJ"
      },
      "source": [
        "#GMM\n",
        "my_model=GaussianMixture(4, random_state=2).fit(dataset)"
      ],
      "execution_count": 13,
      "outputs": []
    },
    {
      "cell_type": "code",
      "metadata": {
        "id": "7RjsO4pbWJpT"
      },
      "source": [
        "data['classes']=my_model.predict(dataset)"
      ],
      "execution_count": 14,
      "outputs": []
    },
    {
      "cell_type": "code",
      "metadata": {
        "colab": {
          "base_uri": "https://localhost:8080/",
          "height": 206
        },
        "id": "fbW0a661WJ5t",
        "outputId": "81d9dd02-b049-4a51-9619-fbdc559b1e64"
      },
      "source": [
        "data.sample(5)"
      ],
      "execution_count": 26,
      "outputs": [
        {
          "output_type": "execute_result",
          "data": {
            "text/html": [
              "<div>\n",
              "<style scoped>\n",
              "    .dataframe tbody tr th:only-of-type {\n",
              "        vertical-align: middle;\n",
              "    }\n",
              "\n",
              "    .dataframe tbody tr th {\n",
              "        vertical-align: top;\n",
              "    }\n",
              "\n",
              "    .dataframe thead th {\n",
              "        text-align: right;\n",
              "    }\n",
              "</style>\n",
              "<table border=\"1\" class=\"dataframe\">\n",
              "  <thead>\n",
              "    <tr style=\"text-align: right;\">\n",
              "      <th></th>\n",
              "      <th>country</th>\n",
              "      <th>child_mort</th>\n",
              "      <th>exports</th>\n",
              "      <th>health</th>\n",
              "      <th>imports</th>\n",
              "      <th>income</th>\n",
              "      <th>inflation</th>\n",
              "      <th>life_expec</th>\n",
              "      <th>total_fer</th>\n",
              "      <th>gdpp</th>\n",
              "      <th>classes</th>\n",
              "    </tr>\n",
              "  </thead>\n",
              "  <tbody>\n",
              "    <tr>\n",
              "      <th>123</th>\n",
              "      <td>Qatar</td>\n",
              "      <td>9.0</td>\n",
              "      <td>62.3</td>\n",
              "      <td>1.81</td>\n",
              "      <td>23.8</td>\n",
              "      <td>125000</td>\n",
              "      <td>6.98</td>\n",
              "      <td>79.5</td>\n",
              "      <td>2.07</td>\n",
              "      <td>70300</td>\n",
              "      <td>2</td>\n",
              "    </tr>\n",
              "    <tr>\n",
              "      <th>125</th>\n",
              "      <td>Russia</td>\n",
              "      <td>10.0</td>\n",
              "      <td>29.2</td>\n",
              "      <td>5.08</td>\n",
              "      <td>21.1</td>\n",
              "      <td>23100</td>\n",
              "      <td>14.20</td>\n",
              "      <td>69.2</td>\n",
              "      <td>1.57</td>\n",
              "      <td>10700</td>\n",
              "      <td>3</td>\n",
              "    </tr>\n",
              "    <tr>\n",
              "      <th>7</th>\n",
              "      <td>Australia</td>\n",
              "      <td>4.8</td>\n",
              "      <td>19.8</td>\n",
              "      <td>8.73</td>\n",
              "      <td>20.9</td>\n",
              "      <td>41400</td>\n",
              "      <td>1.16</td>\n",
              "      <td>82.0</td>\n",
              "      <td>1.93</td>\n",
              "      <td>51900</td>\n",
              "      <td>0</td>\n",
              "    </tr>\n",
              "    <tr>\n",
              "      <th>35</th>\n",
              "      <td>Colombia</td>\n",
              "      <td>18.6</td>\n",
              "      <td>15.9</td>\n",
              "      <td>7.59</td>\n",
              "      <td>17.8</td>\n",
              "      <td>10900</td>\n",
              "      <td>3.86</td>\n",
              "      <td>76.4</td>\n",
              "      <td>2.01</td>\n",
              "      <td>6250</td>\n",
              "      <td>3</td>\n",
              "    </tr>\n",
              "    <tr>\n",
              "      <th>156</th>\n",
              "      <td>Ukraine</td>\n",
              "      <td>11.7</td>\n",
              "      <td>47.1</td>\n",
              "      <td>7.72</td>\n",
              "      <td>51.1</td>\n",
              "      <td>7820</td>\n",
              "      <td>13.40</td>\n",
              "      <td>70.4</td>\n",
              "      <td>1.44</td>\n",
              "      <td>2970</td>\n",
              "      <td>1</td>\n",
              "    </tr>\n",
              "  </tbody>\n",
              "</table>\n",
              "</div>"
            ],
            "text/plain": [
              "       country  child_mort  exports  ...  total_fer   gdpp  classes\n",
              "123      Qatar         9.0     62.3  ...       2.07  70300        2\n",
              "125     Russia        10.0     29.2  ...       1.57  10700        3\n",
              "7    Australia         4.8     19.8  ...       1.93  51900        0\n",
              "35    Colombia        18.6     15.9  ...       2.01   6250        3\n",
              "156    Ukraine        11.7     47.1  ...       1.44   2970        1\n",
              "\n",
              "[5 rows x 11 columns]"
            ]
          },
          "metadata": {},
          "execution_count": 26
        }
      ]
    },
    {
      "cell_type": "code",
      "metadata": {
        "colab": {
          "base_uri": "https://localhost:8080/",
          "height": 112
        },
        "id": "qxV7-R09Wyk0",
        "outputId": "ea1713ac-b189-47fd-af22-5fade24fd2b4"
      },
      "source": [
        "data.loc[data['classes']==3].sample(2)"
      ],
      "execution_count": 49,
      "outputs": [
        {
          "output_type": "execute_result",
          "data": {
            "text/html": [
              "<div>\n",
              "<style scoped>\n",
              "    .dataframe tbody tr th:only-of-type {\n",
              "        vertical-align: middle;\n",
              "    }\n",
              "\n",
              "    .dataframe tbody tr th {\n",
              "        vertical-align: top;\n",
              "    }\n",
              "\n",
              "    .dataframe thead th {\n",
              "        text-align: right;\n",
              "    }\n",
              "</style>\n",
              "<table border=\"1\" class=\"dataframe\">\n",
              "  <thead>\n",
              "    <tr style=\"text-align: right;\">\n",
              "      <th></th>\n",
              "      <th>country</th>\n",
              "      <th>child_mort</th>\n",
              "      <th>exports</th>\n",
              "      <th>health</th>\n",
              "      <th>imports</th>\n",
              "      <th>income</th>\n",
              "      <th>inflation</th>\n",
              "      <th>life_expec</th>\n",
              "      <th>total_fer</th>\n",
              "      <th>gdpp</th>\n",
              "      <th>classes</th>\n",
              "    </tr>\n",
              "  </thead>\n",
              "  <tbody>\n",
              "    <tr>\n",
              "      <th>86</th>\n",
              "      <td>Lebanon</td>\n",
              "      <td>10.3</td>\n",
              "      <td>35.8</td>\n",
              "      <td>7.03</td>\n",
              "      <td>60.2</td>\n",
              "      <td>16300</td>\n",
              "      <td>0.238</td>\n",
              "      <td>79.8</td>\n",
              "      <td>1.61</td>\n",
              "      <td>8860</td>\n",
              "      <td>3</td>\n",
              "    </tr>\n",
              "    <tr>\n",
              "      <th>100</th>\n",
              "      <td>Mauritius</td>\n",
              "      <td>15.0</td>\n",
              "      <td>51.2</td>\n",
              "      <td>6.00</td>\n",
              "      <td>62.2</td>\n",
              "      <td>15900</td>\n",
              "      <td>1.130</td>\n",
              "      <td>73.4</td>\n",
              "      <td>1.57</td>\n",
              "      <td>8000</td>\n",
              "      <td>3</td>\n",
              "    </tr>\n",
              "  </tbody>\n",
              "</table>\n",
              "</div>"
            ],
            "text/plain": [
              "       country  child_mort  exports  ...  total_fer  gdpp  classes\n",
              "86     Lebanon        10.3     35.8  ...       1.61  8860        3\n",
              "100  Mauritius        15.0     51.2  ...       1.57  8000        3\n",
              "\n",
              "[2 rows x 11 columns]"
            ]
          },
          "metadata": {},
          "execution_count": 49
        }
      ]
    },
    {
      "cell_type": "code",
      "metadata": {
        "id": "6GQoKlspWyng"
      },
      "source": [
        "#probability of belonging to a group\n",
        "prob_classes=pd.DataFrame(my_model.predict_proba(dataset).round(3))"
      ],
      "execution_count": 50,
      "outputs": []
    },
    {
      "cell_type": "code",
      "metadata": {
        "id": "m5xzTXKOWyt5"
      },
      "source": [
        "data_prob=pd.concat([data, prob_classes], axis\n",
        "          =1)"
      ],
      "execution_count": 52,
      "outputs": []
    },
    {
      "cell_type": "code",
      "metadata": {
        "colab": {
          "base_uri": "https://localhost:8080/",
          "height": 206
        },
        "id": "ea3zlOqYcX7i",
        "outputId": "843eab5b-0508-4992-d794-29a6b0417c31"
      },
      "source": [
        "data_prob.sample(5)"
      ],
      "execution_count": 55,
      "outputs": [
        {
          "output_type": "execute_result",
          "data": {
            "text/html": [
              "<div>\n",
              "<style scoped>\n",
              "    .dataframe tbody tr th:only-of-type {\n",
              "        vertical-align: middle;\n",
              "    }\n",
              "\n",
              "    .dataframe tbody tr th {\n",
              "        vertical-align: top;\n",
              "    }\n",
              "\n",
              "    .dataframe thead th {\n",
              "        text-align: right;\n",
              "    }\n",
              "</style>\n",
              "<table border=\"1\" class=\"dataframe\">\n",
              "  <thead>\n",
              "    <tr style=\"text-align: right;\">\n",
              "      <th></th>\n",
              "      <th>country</th>\n",
              "      <th>child_mort</th>\n",
              "      <th>exports</th>\n",
              "      <th>health</th>\n",
              "      <th>imports</th>\n",
              "      <th>income</th>\n",
              "      <th>inflation</th>\n",
              "      <th>life_expec</th>\n",
              "      <th>total_fer</th>\n",
              "      <th>gdpp</th>\n",
              "      <th>classes</th>\n",
              "      <th>0</th>\n",
              "      <th>1</th>\n",
              "      <th>2</th>\n",
              "      <th>3</th>\n",
              "    </tr>\n",
              "  </thead>\n",
              "  <tbody>\n",
              "    <tr>\n",
              "      <th>12</th>\n",
              "      <td>Bangladesh</td>\n",
              "      <td>49.4</td>\n",
              "      <td>16.0</td>\n",
              "      <td>3.52</td>\n",
              "      <td>21.8</td>\n",
              "      <td>2440</td>\n",
              "      <td>7.14</td>\n",
              "      <td>70.4</td>\n",
              "      <td>2.33</td>\n",
              "      <td>758</td>\n",
              "      <td>1</td>\n",
              "      <td>0.0</td>\n",
              "      <td>1.000</td>\n",
              "      <td>0.0</td>\n",
              "      <td>0.000</td>\n",
              "    </tr>\n",
              "    <tr>\n",
              "      <th>156</th>\n",
              "      <td>Ukraine</td>\n",
              "      <td>11.7</td>\n",
              "      <td>47.1</td>\n",
              "      <td>7.72</td>\n",
              "      <td>51.1</td>\n",
              "      <td>7820</td>\n",
              "      <td>13.40</td>\n",
              "      <td>70.4</td>\n",
              "      <td>1.44</td>\n",
              "      <td>2970</td>\n",
              "      <td>1</td>\n",
              "      <td>0.0</td>\n",
              "      <td>0.855</td>\n",
              "      <td>0.0</td>\n",
              "      <td>0.145</td>\n",
              "    </tr>\n",
              "    <tr>\n",
              "      <th>69</th>\n",
              "      <td>India</td>\n",
              "      <td>58.8</td>\n",
              "      <td>22.6</td>\n",
              "      <td>4.05</td>\n",
              "      <td>27.1</td>\n",
              "      <td>4410</td>\n",
              "      <td>8.98</td>\n",
              "      <td>66.2</td>\n",
              "      <td>2.60</td>\n",
              "      <td>1350</td>\n",
              "      <td>1</td>\n",
              "      <td>0.0</td>\n",
              "      <td>1.000</td>\n",
              "      <td>0.0</td>\n",
              "      <td>0.000</td>\n",
              "    </tr>\n",
              "    <tr>\n",
              "      <th>52</th>\n",
              "      <td>Fiji</td>\n",
              "      <td>24.1</td>\n",
              "      <td>57.8</td>\n",
              "      <td>4.86</td>\n",
              "      <td>63.9</td>\n",
              "      <td>7350</td>\n",
              "      <td>4.23</td>\n",
              "      <td>65.3</td>\n",
              "      <td>2.67</td>\n",
              "      <td>3650</td>\n",
              "      <td>1</td>\n",
              "      <td>0.0</td>\n",
              "      <td>1.000</td>\n",
              "      <td>0.0</td>\n",
              "      <td>0.000</td>\n",
              "    </tr>\n",
              "    <tr>\n",
              "      <th>87</th>\n",
              "      <td>Lesotho</td>\n",
              "      <td>99.7</td>\n",
              "      <td>39.4</td>\n",
              "      <td>11.10</td>\n",
              "      <td>101.0</td>\n",
              "      <td>2380</td>\n",
              "      <td>4.15</td>\n",
              "      <td>46.5</td>\n",
              "      <td>3.30</td>\n",
              "      <td>1170</td>\n",
              "      <td>1</td>\n",
              "      <td>0.0</td>\n",
              "      <td>1.000</td>\n",
              "      <td>0.0</td>\n",
              "      <td>0.000</td>\n",
              "    </tr>\n",
              "  </tbody>\n",
              "</table>\n",
              "</div>"
            ],
            "text/plain": [
              "        country  child_mort  exports  health  ...    0      1    2      3\n",
              "12   Bangladesh        49.4     16.0    3.52  ...  0.0  1.000  0.0  0.000\n",
              "156     Ukraine        11.7     47.1    7.72  ...  0.0  0.855  0.0  0.145\n",
              "69        India        58.8     22.6    4.05  ...  0.0  1.000  0.0  0.000\n",
              "52         Fiji        24.1     57.8    4.86  ...  0.0  1.000  0.0  0.000\n",
              "87      Lesotho        99.7     39.4   11.10  ...  0.0  1.000  0.0  0.000\n",
              "\n",
              "[5 rows x 15 columns]"
            ]
          },
          "metadata": {},
          "execution_count": 55
        }
      ]
    },
    {
      "cell_type": "code",
      "metadata": {
        "id": "hX_Y_k1ZcYB9"
      },
      "source": [
        ""
      ],
      "execution_count": null,
      "outputs": []
    }
  ]
}